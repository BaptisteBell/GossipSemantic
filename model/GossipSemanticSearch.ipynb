{
 "cells": [
  {
   "cell_type": "markdown",
   "metadata": {},
   "source": [
    "# Gossip Semantic Search"
   ]
  },
  {
   "cell_type": "code",
   "execution_count": 10,
   "metadata": {},
   "outputs": [],
   "source": [
    "# %pip install feedparser\n",
    "# %pip install -U sentence-transformers\n",
    "# %pip install tf-keras"
   ]
  },
  {
   "cell_type": "code",
   "execution_count": 2,
   "metadata": {},
   "outputs": [],
   "source": [
    "import feedparser\n",
    "import pandas as pd\n",
    "import json\n",
    "import numpy as np\n",
    "\n",
    "from datetime import datetime"
   ]
  },
  {
   "cell_type": "markdown",
   "metadata": {},
   "source": [
    "## Dataset"
   ]
  },
  {
   "cell_type": "markdown",
   "metadata": {},
   "source": [
    "## Load the Data"
   ]
  },
  {
   "cell_type": "code",
   "execution_count": 3,
   "metadata": {},
   "outputs": [
    {
     "data": {
      "text/html": [
       "<div>\n",
       "<style scoped>\n",
       "    .dataframe tbody tr th:only-of-type {\n",
       "        vertical-align: middle;\n",
       "    }\n",
       "\n",
       "    .dataframe tbody tr th {\n",
       "        vertical-align: top;\n",
       "    }\n",
       "\n",
       "    .dataframe thead th {\n",
       "        text-align: right;\n",
       "    }\n",
       "</style>\n",
       "<table border=\"1\" class=\"dataframe\">\n",
       "  <thead>\n",
       "    <tr style=\"text-align: right;\">\n",
       "      <th></th>\n",
       "      <th>title</th>\n",
       "      <th>url</th>\n",
       "      <th>date</th>\n",
       "      <th>summary</th>\n",
       "    </tr>\n",
       "  </thead>\n",
       "  <tbody>\n",
       "    <tr>\n",
       "      <th>0</th>\n",
       "      <td>N/A</td>\n",
       "      <td>N/A</td>\n",
       "      <td>N/A</td>\n",
       "      <td>N/A</td>\n",
       "    </tr>\n",
       "    <tr>\n",
       "      <th>1</th>\n",
       "      <td>N/A</td>\n",
       "      <td>N/A</td>\n",
       "      <td>N/A</td>\n",
       "      <td>N/A</td>\n",
       "    </tr>\n",
       "    <tr>\n",
       "      <th>2</th>\n",
       "      <td>N/A</td>\n",
       "      <td>N/A</td>\n",
       "      <td>N/A</td>\n",
       "      <td>N/A</td>\n",
       "    </tr>\n",
       "    <tr>\n",
       "      <th>3</th>\n",
       "      <td>N/A</td>\n",
       "      <td>N/A</td>\n",
       "      <td>N/A</td>\n",
       "      <td>N/A</td>\n",
       "    </tr>\n",
       "    <tr>\n",
       "      <th>4</th>\n",
       "      <td>N/A</td>\n",
       "      <td>N/A</td>\n",
       "      <td>N/A</td>\n",
       "      <td>N/A</td>\n",
       "    </tr>\n",
       "    <tr>\n",
       "      <th>5</th>\n",
       "      <td>N/A</td>\n",
       "      <td>N/A</td>\n",
       "      <td>N/A</td>\n",
       "      <td>N/A</td>\n",
       "    </tr>\n",
       "    <tr>\n",
       "      <th>6</th>\n",
       "      <td>Décès d'un membre du \"Club Dorothée\", l'animat...</td>\n",
       "      <td>https://vsd.fr/70514-deces-dun-membre-du-club-...</td>\n",
       "      <td>2024-10-20T10:30:00+00:00</td>\n",
       "      <td>Ce samedi 20 octobre, Dorothée est en deuil. A...</td>\n",
       "    </tr>\n",
       "    <tr>\n",
       "      <th>7</th>\n",
       "      <td>N/A</td>\n",
       "      <td>N/A</td>\n",
       "      <td>N/A</td>\n",
       "      <td>N/A</td>\n",
       "    </tr>\n",
       "    <tr>\n",
       "      <th>8</th>\n",
       "      <td>\"Gosse de 12 ans\", \"aucune culture\" Quand Thie...</td>\n",
       "      <td>https://vsd.fr/70546-gosse-de-12-ans-aucune-cu...</td>\n",
       "      <td>2024-10-21T08:30:00+00:00</td>\n",
       "      <td>Invité dans l'émission \"Cmédiatique\", Thierry ...</td>\n",
       "    </tr>\n",
       "    <tr>\n",
       "      <th>9</th>\n",
       "      <td>N/A</td>\n",
       "      <td>N/A</td>\n",
       "      <td>N/A</td>\n",
       "      <td>N/A</td>\n",
       "    </tr>\n",
       "  </tbody>\n",
       "</table>\n",
       "</div>"
      ],
      "text/plain": [
       "                                               title  \\\n",
       "0                                                N/A   \n",
       "1                                                N/A   \n",
       "2                                                N/A   \n",
       "3                                                N/A   \n",
       "4                                                N/A   \n",
       "5                                                N/A   \n",
       "6  Décès d'un membre du \"Club Dorothée\", l'animat...   \n",
       "7                                                N/A   \n",
       "8  \"Gosse de 12 ans\", \"aucune culture\" Quand Thie...   \n",
       "9                                                N/A   \n",
       "\n",
       "                                                 url  \\\n",
       "0                                                N/A   \n",
       "1                                                N/A   \n",
       "2                                                N/A   \n",
       "3                                                N/A   \n",
       "4                                                N/A   \n",
       "5                                                N/A   \n",
       "6  https://vsd.fr/70514-deces-dun-membre-du-club-...   \n",
       "7                                                N/A   \n",
       "8  https://vsd.fr/70546-gosse-de-12-ans-aucune-cu...   \n",
       "9                                                N/A   \n",
       "\n",
       "                        date  \\\n",
       "0                        N/A   \n",
       "1                        N/A   \n",
       "2                        N/A   \n",
       "3                        N/A   \n",
       "4                        N/A   \n",
       "5                        N/A   \n",
       "6  2024-10-20T10:30:00+00:00   \n",
       "7                        N/A   \n",
       "8  2024-10-21T08:30:00+00:00   \n",
       "9                        N/A   \n",
       "\n",
       "                                             summary  \n",
       "0                                                N/A  \n",
       "1                                                N/A  \n",
       "2                                                N/A  \n",
       "3                                                N/A  \n",
       "4                                                N/A  \n",
       "5                                                N/A  \n",
       "6  Ce samedi 20 octobre, Dorothée est en deuil. A...  \n",
       "7                                                N/A  \n",
       "8  Invité dans l'émission \"Cmédiatique\", Thierry ...  \n",
       "9                                                N/A  "
      ]
     },
     "execution_count": 3,
     "metadata": {},
     "output_type": "execute_result"
    }
   ],
   "source": [
    "output_path_vsd = \"../gossip_scrapper/vsd_articles.jl\"\n",
    "\n",
    "data = []\n",
    "with open(output_path_vsd, 'r', encoding='utf-8') as file:\n",
    "    for line in file:\n",
    "        try:\n",
    "            data.append(json.loads(line))\n",
    "        except json.JSONDecodeError as e:\n",
    "            print(f\"Erreur de décodage JSON : {e}\")\n",
    "\n",
    "df = pd.DataFrame(data)\n",
    "\n",
    "df[:10]"
   ]
  },
  {
   "cell_type": "markdown",
   "metadata": {},
   "source": [
    "### Add RSS feed"
   ]
  },
  {
   "cell_type": "code",
   "execution_count": 7,
   "metadata": {},
   "outputs": [
    {
     "name": "stdout",
     "output_type": "stream",
     "text": [
      "Number of articles: 100\n"
     ]
    },
    {
     "data": {
      "text/html": [
       "<div>\n",
       "<style scoped>\n",
       "    .dataframe tbody tr th:only-of-type {\n",
       "        vertical-align: middle;\n",
       "    }\n",
       "\n",
       "    .dataframe tbody tr th {\n",
       "        vertical-align: top;\n",
       "    }\n",
       "\n",
       "    .dataframe thead th {\n",
       "        text-align: right;\n",
       "    }\n",
       "</style>\n",
       "<table border=\"1\" class=\"dataframe\">\n",
       "  <thead>\n",
       "    <tr style=\"text-align: right;\">\n",
       "      <th></th>\n",
       "      <th>title</th>\n",
       "      <th>link</th>\n",
       "      <th>published</th>\n",
       "      <th>summary</th>\n",
       "    </tr>\n",
       "  </thead>\n",
       "  <tbody>\n",
       "    <tr>\n",
       "      <th>0</th>\n",
       "      <td>Tuerie dans le Nord : cinq personnes abattues,...</td>\n",
       "      <td>https://vsd.fr/73477-tuerie-dans-le-nord-cinq-...</td>\n",
       "      <td>Sun, 15 Dec 2024 18:27:00 +0000</td>\n",
       "      <td>Un jeune homme de 22 ans s'est rendu à la gend...</td>\n",
       "    </tr>\n",
       "    <tr>\n",
       "      <th>1</th>\n",
       "      <td>Miss France 2025 : Pourquoi Angélique Angarni-...</td>\n",
       "      <td>https://vsd.fr/73471-miss-france-2025-pourquoi...</td>\n",
       "      <td>Sun, 15 Dec 2024 16:54:56 +0000</td>\n",
       "      <td>En 2011, Angélique Angarni-Filopon terminait p...</td>\n",
       "    </tr>\n",
       "    <tr>\n",
       "      <th>2</th>\n",
       "      <td>Rohan Dennis percute sa femme en voiture et la...</td>\n",
       "      <td>https://vsd.fr/73463-rohan-dennis-percute-sa-f...</td>\n",
       "      <td>Sun, 15 Dec 2024 11:33:34 +0000</td>\n",
       "      <td>Son avocat aurait déclaré que l'ancien champio...</td>\n",
       "    </tr>\n",
       "    <tr>\n",
       "      <th>3</th>\n",
       "      <td>Une exposition tout en douceur au Musée des Ar...</td>\n",
       "      <td>https://vsd.fr/73442-une-exposition-tout-en-do...</td>\n",
       "      <td>Sat, 14 Dec 2024 17:00:00 +0000</td>\n",
       "      <td>Jusqu'au 22 juin prochain, une rétrospective p...</td>\n",
       "    </tr>\n",
       "    <tr>\n",
       "      <th>4</th>\n",
       "      <td>Y-a t'il des Françaises parmi les femmes les p...</td>\n",
       "      <td>https://vsd.fr/73436-y-a-til-des-francaises-pa...</td>\n",
       "      <td>Sat, 14 Dec 2024 16:00:00 +0000</td>\n",
       "      <td>Le classement 2023 des 100 femmes les plus pui...</td>\n",
       "    </tr>\n",
       "  </tbody>\n",
       "</table>\n",
       "</div>"
      ],
      "text/plain": [
       "                                               title  \\\n",
       "0  Tuerie dans le Nord : cinq personnes abattues,...   \n",
       "1  Miss France 2025 : Pourquoi Angélique Angarni-...   \n",
       "2  Rohan Dennis percute sa femme en voiture et la...   \n",
       "3  Une exposition tout en douceur au Musée des Ar...   \n",
       "4  Y-a t'il des Françaises parmi les femmes les p...   \n",
       "\n",
       "                                                link  \\\n",
       "0  https://vsd.fr/73477-tuerie-dans-le-nord-cinq-...   \n",
       "1  https://vsd.fr/73471-miss-france-2025-pourquoi...   \n",
       "2  https://vsd.fr/73463-rohan-dennis-percute-sa-f...   \n",
       "3  https://vsd.fr/73442-une-exposition-tout-en-do...   \n",
       "4  https://vsd.fr/73436-y-a-til-des-francaises-pa...   \n",
       "\n",
       "                         published  \\\n",
       "0  Sun, 15 Dec 2024 18:27:00 +0000   \n",
       "1  Sun, 15 Dec 2024 16:54:56 +0000   \n",
       "2  Sun, 15 Dec 2024 11:33:34 +0000   \n",
       "3  Sat, 14 Dec 2024 17:00:00 +0000   \n",
       "4  Sat, 14 Dec 2024 16:00:00 +0000   \n",
       "\n",
       "                                             summary  \n",
       "0  Un jeune homme de 22 ans s'est rendu à la gend...  \n",
       "1  En 2011, Angélique Angarni-Filopon terminait p...  \n",
       "2  Son avocat aurait déclaré que l'ancien champio...  \n",
       "3  Jusqu'au 22 juin prochain, une rétrospective p...  \n",
       "4  Le classement 2023 des 100 femmes les plus pui...  "
      ]
     },
     "metadata": {},
     "output_type": "display_data"
    }
   ],
   "source": [
    "rss_feeds = [\n",
    "    \"https://www.vsd.fr/rss\",\n",
    "    \"https://www.public.fr/rss\"\n",
    "]\n",
    "\n",
    "articles = []\n",
    "\n",
    "for feed_url in rss_feeds:\n",
    "    feed = feedparser.parse(feed_url)\n",
    "    for entry in feed.entries:\n",
    "        articles.append({\n",
    "            'title': entry.title,\n",
    "            'link': entry.link,\n",
    "            'published': entry.published,\n",
    "            'summary': entry.summary\n",
    "        })\n",
    "\n",
    "df_rss = pd.DataFrame(articles)\n",
    "\n",
    "print(f\"Number of articles: {len(df_rss)}\")\n",
    "display(df_rss.head())\n"
   ]
  },
  {
   "cell_type": "code",
   "execution_count": 8,
   "metadata": {},
   "outputs": [
    {
     "name": "stdout",
     "output_type": "stream",
     "text": [
      "Number of articles: 23986\n"
     ]
    },
    {
     "data": {
      "text/html": [
       "<div>\n",
       "<style scoped>\n",
       "    .dataframe tbody tr th:only-of-type {\n",
       "        vertical-align: middle;\n",
       "    }\n",
       "\n",
       "    .dataframe tbody tr th {\n",
       "        vertical-align: top;\n",
       "    }\n",
       "\n",
       "    .dataframe thead th {\n",
       "        text-align: right;\n",
       "    }\n",
       "</style>\n",
       "<table border=\"1\" class=\"dataframe\">\n",
       "  <thead>\n",
       "    <tr style=\"text-align: right;\">\n",
       "      <th></th>\n",
       "      <th>title</th>\n",
       "      <th>url</th>\n",
       "      <th>date</th>\n",
       "      <th>summary</th>\n",
       "    </tr>\n",
       "  </thead>\n",
       "  <tbody>\n",
       "    <tr>\n",
       "      <th>0</th>\n",
       "      <td>N/A</td>\n",
       "      <td>N/A</td>\n",
       "      <td>N/A</td>\n",
       "      <td>N/A</td>\n",
       "    </tr>\n",
       "    <tr>\n",
       "      <th>1</th>\n",
       "      <td>N/A</td>\n",
       "      <td>N/A</td>\n",
       "      <td>N/A</td>\n",
       "      <td>N/A</td>\n",
       "    </tr>\n",
       "    <tr>\n",
       "      <th>2</th>\n",
       "      <td>N/A</td>\n",
       "      <td>N/A</td>\n",
       "      <td>N/A</td>\n",
       "      <td>N/A</td>\n",
       "    </tr>\n",
       "    <tr>\n",
       "      <th>3</th>\n",
       "      <td>N/A</td>\n",
       "      <td>N/A</td>\n",
       "      <td>N/A</td>\n",
       "      <td>N/A</td>\n",
       "    </tr>\n",
       "    <tr>\n",
       "      <th>4</th>\n",
       "      <td>N/A</td>\n",
       "      <td>N/A</td>\n",
       "      <td>N/A</td>\n",
       "      <td>N/A</td>\n",
       "    </tr>\n",
       "  </tbody>\n",
       "</table>\n",
       "</div>"
      ],
      "text/plain": [
       "  title  url date summary\n",
       "0   N/A  N/A  N/A     N/A\n",
       "1   N/A  N/A  N/A     N/A\n",
       "2   N/A  N/A  N/A     N/A\n",
       "3   N/A  N/A  N/A     N/A\n",
       "4   N/A  N/A  N/A     N/A"
      ]
     },
     "metadata": {},
     "output_type": "display_data"
    }
   ],
   "source": [
    "def convert_date(date_str: str) -> str:\n",
    "    date_obj = datetime.strptime(date_str, '%a, %d %b %Y %H:%M:%S %z')\n",
    "    return date_obj.strftime('%Y-%m-%dT%H:%M:%S%z')[:-4] + '00:00'\n",
    "\n",
    "df_rss = df_rss.rename(columns={\n",
    "    'link': 'url',\n",
    "    'published': 'date'\n",
    "})\n",
    "\n",
    "df_rss['date'] = df_rss['date'].apply(convert_date)\n",
    "df = pd.concat([df, df_rss], ignore_index=True)\n",
    "\n",
    "print(f\"Number of articles: {len(df)}\")\n",
    "display(df.head())"
   ]
  },
  {
   "cell_type": "markdown",
   "metadata": {},
   "source": [
    "### Data Cleaning"
   ]
  },
  {
   "cell_type": "code",
   "execution_count": null,
   "metadata": {},
   "outputs": [
    {
     "name": "stdout",
     "output_type": "stream",
     "text": [
      "Number of articles: 17397\n"
     ]
    },
    {
     "data": {
      "text/html": [
       "<div>\n",
       "<style scoped>\n",
       "    .dataframe tbody tr th:only-of-type {\n",
       "        vertical-align: middle;\n",
       "    }\n",
       "\n",
       "    .dataframe tbody tr th {\n",
       "        vertical-align: top;\n",
       "    }\n",
       "\n",
       "    .dataframe thead th {\n",
       "        text-align: right;\n",
       "    }\n",
       "</style>\n",
       "<table border=\"1\" class=\"dataframe\">\n",
       "  <thead>\n",
       "    <tr style=\"text-align: right;\">\n",
       "      <th></th>\n",
       "      <th>title</th>\n",
       "      <th>url</th>\n",
       "      <th>date</th>\n",
       "      <th>summary</th>\n",
       "    </tr>\n",
       "  </thead>\n",
       "  <tbody>\n",
       "    <tr>\n",
       "      <th>6</th>\n",
       "      <td>Décès d'un membre du \"Club Dorothée\", l'animat...</td>\n",
       "      <td>https://vsd.fr/70514-deces-dun-membre-du-club-...</td>\n",
       "      <td>2024-10-20T10:30:00+00:00</td>\n",
       "      <td>Ce samedi 20 octobre, Dorothée est en deuil. A...</td>\n",
       "    </tr>\n",
       "    <tr>\n",
       "      <th>8</th>\n",
       "      <td>\"Gosse de 12 ans\", \"aucune culture\" Quand Thie...</td>\n",
       "      <td>https://vsd.fr/70546-gosse-de-12-ans-aucune-cu...</td>\n",
       "      <td>2024-10-21T08:30:00+00:00</td>\n",
       "      <td>Invité dans l'émission \"Cmédiatique\", Thierry ...</td>\n",
       "    </tr>\n",
       "    <tr>\n",
       "      <th>10</th>\n",
       "      <td>\"Un squelette\" Adeline Toniutti sans tabou sur...</td>\n",
       "      <td>https://vsd.fr/70600-un-squelette-adeline-toni...</td>\n",
       "      <td>2024-10-22T07:30:00+00:00</td>\n",
       "      <td>Invitée chez Jordan de Luxe, Adeline Toniutti ...</td>\n",
       "    </tr>\n",
       "    <tr>\n",
       "      <th>11</th>\n",
       "      <td>\"Sale\", \"Malaisant\" Cyril Hanouna écœuré, répo...</td>\n",
       "      <td>https://vsd.fr/70602-sale-malaisant-cyril-hano...</td>\n",
       "      <td>2024-10-22T09:30:00+00:00</td>\n",
       "      <td>Quelques heures après les propos chocs de Thie...</td>\n",
       "    </tr>\n",
       "    <tr>\n",
       "      <th>12</th>\n",
       "      <td>\"Bizarre\", \"pas fan\" Loana brise le silence su...</td>\n",
       "      <td>https://vsd.fr/70603-bizarre-pas-fan-loana-bri...</td>\n",
       "      <td>2024-10-22T10:30:00+00:00</td>\n",
       "      <td>Dans les colonnes de \"Voici\", Loana se confie ...</td>\n",
       "    </tr>\n",
       "  </tbody>\n",
       "</table>\n",
       "</div>"
      ],
      "text/plain": [
       "                                                title  \\\n",
       "6   Décès d'un membre du \"Club Dorothée\", l'animat...   \n",
       "8   \"Gosse de 12 ans\", \"aucune culture\" Quand Thie...   \n",
       "10  \"Un squelette\" Adeline Toniutti sans tabou sur...   \n",
       "11  \"Sale\", \"Malaisant\" Cyril Hanouna écœuré, répo...   \n",
       "12  \"Bizarre\", \"pas fan\" Loana brise le silence su...   \n",
       "\n",
       "                                                  url  \\\n",
       "6   https://vsd.fr/70514-deces-dun-membre-du-club-...   \n",
       "8   https://vsd.fr/70546-gosse-de-12-ans-aucune-cu...   \n",
       "10  https://vsd.fr/70600-un-squelette-adeline-toni...   \n",
       "11  https://vsd.fr/70602-sale-malaisant-cyril-hano...   \n",
       "12  https://vsd.fr/70603-bizarre-pas-fan-loana-bri...   \n",
       "\n",
       "                         date  \\\n",
       "6   2024-10-20T10:30:00+00:00   \n",
       "8   2024-10-21T08:30:00+00:00   \n",
       "10  2024-10-22T07:30:00+00:00   \n",
       "11  2024-10-22T09:30:00+00:00   \n",
       "12  2024-10-22T10:30:00+00:00   \n",
       "\n",
       "                                              summary  \n",
       "6   Ce samedi 20 octobre, Dorothée est en deuil. A...  \n",
       "8   Invité dans l'émission \"Cmédiatique\", Thierry ...  \n",
       "10  Invitée chez Jordan de Luxe, Adeline Toniutti ...  \n",
       "11  Quelques heures après les propos chocs de Thie...  \n",
       "12  Dans les colonnes de \"Voici\", Loana se confie ...  "
      ]
     },
     "metadata": {},
     "output_type": "display_data"
    }
   ],
   "source": [
    "df_cleaned = df.replace(\"N/A\", pd.NA).dropna()\n",
    "df_cleaned = df_cleaned.drop_duplicates(subset=['url'])\n",
    "\n",
    "print(f\"Number of articles: {len(df_cleaned)}\")\n",
    "display(df_cleaned.head())\n",
    "\n",
    "df_cleaned.to_csv('../data/articles.csv', index=False)"
   ]
  },
  {
   "cell_type": "markdown",
   "metadata": {},
   "source": [
    "## Sentence-transformer model"
   ]
  },
  {
   "cell_type": "code",
   "execution_count": 66,
   "metadata": {},
   "outputs": [],
   "source": [
    "from sentence_transformers import SentenceTransformer\n",
    "\n",
    "sentences = df_cleaned['title'].tolist()\n",
    "model = SentenceTransformer('sentence-transformers/all-MiniLM-L6-v2')\n",
    "embeddings = model.encode(sentences)\n",
    "\n",
    "np.save('../data/embeddings.npy', embeddings)"
   ]
  },
  {
   "cell_type": "code",
   "execution_count": 70,
   "metadata": {},
   "outputs": [
    {
     "name": "stdout",
     "output_type": "stream",
     "text": [
      "(17397, 384)\n"
     ]
    }
   ],
   "source": [
    "embeddings = np.load('../data/embeddings.npy')\n",
    "\n",
    "print(embeddings.shape)"
   ]
  },
  {
   "cell_type": "markdown",
   "metadata": {},
   "source": [
    "# Semantic Search"
   ]
  },
  {
   "cell_type": "markdown",
   "metadata": {},
   "source": [
    "### Similarity Test"
   ]
  },
  {
   "cell_type": "code",
   "execution_count": 71,
   "metadata": {},
   "outputs": [
    {
     "name": "stdout",
     "output_type": "stream",
     "text": [
      "Similarité entre la première et la dixième phrase : 0.4322\n"
     ]
    }
   ],
   "source": [
    "from sklearn.metrics.pairwise import cosine_similarity\n",
    "\n",
    "similarité = cosine_similarity([embeddings[0]], [embeddings[10]])\n",
    "print(f\"similarity between two embeddings is : {similarité[0][0]:.4f}\")"
   ]
  },
  {
   "cell_type": "markdown",
   "metadata": {},
   "source": [
    "## Get Most Similar Function"
   ]
  },
  {
   "cell_type": "code",
   "execution_count": 123,
   "metadata": {},
   "outputs": [],
   "source": [
    "from typing import List, Dict, Any\n",
    "\n",
    "def get_most_similar(sentence:str,\n",
    "                     embeddings: List[List[float]],\n",
    "                     model: SentenceTransformer,\n",
    "                     articles: pd.DataFrame,\n",
    "                     n:int=5) -> List[Dict[str, Any]]:\n",
    "    \"\"\"\n",
    "    Find the articles most similar to a given sentence using embeddings and cosine similarity.\n",
    "\n",
    "    Args:\n",
    "        sentence (str): The query sentence.\n",
    "        embeddings (List[List[float]]): List of embeddings representing the articles.\n",
    "        model (SentenceTransformer): The sentence transformer model.\n",
    "        articles (pd.DataFrame): DataFrame containing the articles with columns ('title', 'url', 'date', 'summary').\n",
    "        n (int, optional): Number of similar articles to return, defaults to 5.\n",
    "\n",
    "    Returns:\n",
    "        List[Dict[str, Any]]: List of dictionaries containing the most similar articles :\n",
    "            - 'title' (str)\n",
    "            - 'link' (str)\n",
    "            - 'date' (str), formatted as 'dd/mm/yy'.\n",
    "            - 'description\n",
    "    \"\"\"\n",
    "\n",
    "    query_embedding = model.encode(sentence).reshape(1, -1)\n",
    "    \n",
    "    similarities = cosine_similarity(np.array(embeddings), query_embedding).flatten()\n",
    "    \n",
    "    top_n_indices = similarities.argsort()[-n:][::-1]\n",
    "    \n",
    "    most_similar = []\n",
    "    for idx in top_n_indices:\n",
    "        article = articles.iloc[idx]\n",
    "        date = datetime.strptime(article['date'], '%Y-%m-%dT%H:%M:%S%z')\n",
    "        formatted_date = date.strftime('%d/%m/%y')\n",
    "        most_similar.append({\n",
    "            'title': article['title'],\n",
    "            'url': article['url'], \n",
    "            'date': formatted_date,\n",
    "            'description': article['summary']\n",
    "        })\n",
    "    \n",
    "    return most_similar"
   ]
  },
  {
   "cell_type": "code",
   "execution_count": 124,
   "metadata": {},
   "outputs": [
    {
     "name": "stdout",
     "output_type": "stream",
     "text": [
      "{'title': '\"Bien fait pour sa gueule\" : Michel Sardou s’en prend à Emmanuel Macron', 'url': 'https://www.public.fr/bien-fait-pour-sa-gueule-michel-sardou-sen-prend-a-emmanuel-macron', 'date': '13/12/24', 'description': 'Ce vendredi 13 décembre 2024, Nathalie Renoux a reçu Michel Sardou pour un entretien diffusé dans le \"12.45\" de M6. L’occasion pour le chanteur d’évoquer la politique d’Emmanuel Macron et la situation de la France aujourd’hui.'}\n",
      "{'title': 'Michel Sardou : son ami d’enfance fait une confidence déroutante sur son plus gros tube', 'url': 'https://www.public.fr/michel-sardou-son-ami-denfance-fait-une-confidence-deroutante-sur-son-plus-gros-tube', 'date': '14/12/24', 'description': \"À l'occasion de la diffusion de l'ultime concert de Michel Sardou, son ami d'enfance a fait des révélations étonnantes sur l'origine de son titre le plus populaire.\"}\n",
      "{'title': \"People La déclaration d'amour de Michel Sardou pour Brigitte Macron - VSD\", 'url': 'https://vsd.fr/31183-people-la-declaration-d-amour-de-michel-sardou-pour-brigitte-macron/', 'date': '04/06/17', 'description': '« Je la trouve belle », a confié le chanteur à propos de la femme du président de la République, dans les colonnes du Journal du Dimanche.'}\n",
      "{'title': \"People La déclaration d'amour de Michel Sardou pour Brigitte Macron - VSD\", 'url': 'https://vsd.fr/24746-people-la-declaration-damour-de-michel-sardou-pour-brigitte-macron/', 'date': '04/06/17', 'description': '« Je la trouve belle », a confié le chanteur à propos de la femme du président de la République, dans les colonnes du Journal du Dimanche.'}\n",
      "{'title': \"Une comédie musicale met à l'honneur Michel Sardou\", 'url': 'https://vsd.fr/57097-je-vais-taimer-une-comedie-musicale-qui-met-a-lhonneur-michel-sardou/', 'date': '13/01/24', 'description': 'Du 25 janvier jusqu\\'à fin mars, le spectacle musical \"Je vais t\\'aimer\" qui s\\'articule autour de Michel Sardou repart sur les routes !'}\n"
     ]
    }
   ],
   "source": [
    "sentence = \"michel sardou\"\n",
    "most_sim = get_most_similar(sentence, embeddings, model, df_cleaned)\n",
    "for sim in most_sim:\n",
    "    print(sim)"
   ]
  }
 ],
 "metadata": {
  "kernelspec": {
   "display_name": "SCIA_Env",
   "language": "python",
   "name": "python3"
  },
  "language_info": {
   "codemirror_mode": {
    "name": "ipython",
    "version": 3
   },
   "file_extension": ".py",
   "mimetype": "text/x-python",
   "name": "python",
   "nbconvert_exporter": "python",
   "pygments_lexer": "ipython3",
   "version": "3.10.11"
  }
 },
 "nbformat": 4,
 "nbformat_minor": 2
}
