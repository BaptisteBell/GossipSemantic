{
 "cells": [
  {
   "cell_type": "markdown",
   "metadata": {},
   "source": [
    "# Gossip Semantic Search"
   ]
  },
  {
   "cell_type": "code",
   "execution_count": 10,
   "metadata": {},
   "outputs": [],
   "source": [
    "# %pip install feedparser\n",
    "# %pip install -U sentence-transformers\n",
    "# %pip install tf-keras"
   ]
  },
  {
   "cell_type": "code",
   "execution_count": 1,
   "metadata": {},
   "outputs": [],
   "source": [
    "import feedparser\n",
    "import pandas as pd\n",
    "import json\n",
    "import numpy as np\n",
    "\n",
    "from datetime import datetime"
   ]
  },
  {
   "cell_type": "markdown",
   "metadata": {},
   "source": [
    "## Dataset"
   ]
  },
  {
   "cell_type": "markdown",
   "metadata": {},
   "source": [
    "## Load the Data"
   ]
  },
  {
   "cell_type": "code",
   "execution_count": 39,
   "metadata": {},
   "outputs": [
    {
     "name": "stdout",
     "output_type": "stream",
     "text": [
      "Number of articles for VSD: 27401\n",
      "Number of articles for Public: 29569\n"
     ]
    }
   ],
   "source": [
    "def load_data(output_path):\n",
    "    data = []\n",
    "    with open(output_path, 'r', encoding='utf-8') as file:\n",
    "        for line in file:\n",
    "            try:\n",
    "                data.append(json.loads(line))\n",
    "            except json.JSONDecodeError as e:\n",
    "                print(f\"Erreur de décodage JSON : {e}\")\n",
    "\n",
    "    return pd.DataFrame(data)\n",
    "\n",
    "output_path_vsd = \"../gossip_scrapper/vsd_articles.jl\"\n",
    "output_path_public = \"../gossip_scrapper/public_articles.jl\"\n",
    "\n",
    "df_vsd = load_data(output_path_vsd)\n",
    "df_public = load_data(output_path_public)\n",
    "\n",
    "print('Number of articles for VSD:', len(df_vsd))\n",
    "print('Number of articles for Public:', len(df_public))\n"
   ]
  },
  {
   "cell_type": "code",
   "execution_count": 33,
   "metadata": {},
   "outputs": [],
   "source": [
    "df = pd.concat([df_vsd, df_public], ignore_index=True)"
   ]
  },
  {
   "cell_type": "markdown",
   "metadata": {},
   "source": [
    "### Add RSS feed"
   ]
  },
  {
   "cell_type": "code",
   "execution_count": 34,
   "metadata": {},
   "outputs": [
    {
     "name": "stdout",
     "output_type": "stream",
     "text": [
      "Number of articles: 100\n"
     ]
    },
    {
     "data": {
      "text/html": [
       "<div>\n",
       "<style scoped>\n",
       "    .dataframe tbody tr th:only-of-type {\n",
       "        vertical-align: middle;\n",
       "    }\n",
       "\n",
       "    .dataframe tbody tr th {\n",
       "        vertical-align: top;\n",
       "    }\n",
       "\n",
       "    .dataframe thead th {\n",
       "        text-align: right;\n",
       "    }\n",
       "</style>\n",
       "<table border=\"1\" class=\"dataframe\">\n",
       "  <thead>\n",
       "    <tr style=\"text-align: right;\">\n",
       "      <th></th>\n",
       "      <th>title</th>\n",
       "      <th>link</th>\n",
       "      <th>published</th>\n",
       "      <th>summary</th>\n",
       "    </tr>\n",
       "  </thead>\n",
       "  <tbody>\n",
       "    <tr>\n",
       "      <th>0</th>\n",
       "      <td>Un enfant de 2 ans tue sa mère avec l'arme de ...</td>\n",
       "      <td>https://vsd.fr/73487-un-enfant-de-2-ans-tue-sa...</td>\n",
       "      <td>Mon, 16 Dec 2024 11:15:00 +0000</td>\n",
       "      <td>En manipulant l'arme, l’enfant a appuyé involo...</td>\n",
       "    </tr>\n",
       "    <tr>\n",
       "      <th>1</th>\n",
       "      <td>Les crevettes pailletées chantent à la Seine M...</td>\n",
       "      <td>https://vsd.fr/73466-les-crevettes-pailletees-...</td>\n",
       "      <td>Mon, 16 Dec 2024 08:51:00 +0000</td>\n",
       "      <td>Imaginée par les artistes Fabrice-Elie Hubert,...</td>\n",
       "    </tr>\n",
       "    <tr>\n",
       "      <th>2</th>\n",
       "      <td>Visite historique du pape François en Corse</td>\n",
       "      <td>https://vsd.fr/73484-visite-historique-du-pape...</td>\n",
       "      <td>Mon, 16 Dec 2024 06:27:00 +0000</td>\n",
       "      <td>Le pape, qui fêtera ses 88 ans deux jours, a r...</td>\n",
       "    </tr>\n",
       "    <tr>\n",
       "      <th>3</th>\n",
       "      <td>Tuerie dans le Nord : cinq personnes abattues,...</td>\n",
       "      <td>https://vsd.fr/73477-tuerie-dans-le-nord-cinq-...</td>\n",
       "      <td>Sun, 15 Dec 2024 18:27:00 +0000</td>\n",
       "      <td>Un jeune homme de 22 ans s'est rendu à la gend...</td>\n",
       "    </tr>\n",
       "    <tr>\n",
       "      <th>4</th>\n",
       "      <td>Miss France 2025 : Pourquoi Angélique Angarni-...</td>\n",
       "      <td>https://vsd.fr/73471-miss-france-2025-pourquoi...</td>\n",
       "      <td>Sun, 15 Dec 2024 16:54:56 +0000</td>\n",
       "      <td>En 2011, Angélique Angarni-Filopon terminait p...</td>\n",
       "    </tr>\n",
       "  </tbody>\n",
       "</table>\n",
       "</div>"
      ],
      "text/plain": [
       "                                               title  \\\n",
       "0  Un enfant de 2 ans tue sa mère avec l'arme de ...   \n",
       "1  Les crevettes pailletées chantent à la Seine M...   \n",
       "2        Visite historique du pape François en Corse   \n",
       "3  Tuerie dans le Nord : cinq personnes abattues,...   \n",
       "4  Miss France 2025 : Pourquoi Angélique Angarni-...   \n",
       "\n",
       "                                                link  \\\n",
       "0  https://vsd.fr/73487-un-enfant-de-2-ans-tue-sa...   \n",
       "1  https://vsd.fr/73466-les-crevettes-pailletees-...   \n",
       "2  https://vsd.fr/73484-visite-historique-du-pape...   \n",
       "3  https://vsd.fr/73477-tuerie-dans-le-nord-cinq-...   \n",
       "4  https://vsd.fr/73471-miss-france-2025-pourquoi...   \n",
       "\n",
       "                         published  \\\n",
       "0  Mon, 16 Dec 2024 11:15:00 +0000   \n",
       "1  Mon, 16 Dec 2024 08:51:00 +0000   \n",
       "2  Mon, 16 Dec 2024 06:27:00 +0000   \n",
       "3  Sun, 15 Dec 2024 18:27:00 +0000   \n",
       "4  Sun, 15 Dec 2024 16:54:56 +0000   \n",
       "\n",
       "                                             summary  \n",
       "0  En manipulant l'arme, l’enfant a appuyé involo...  \n",
       "1  Imaginée par les artistes Fabrice-Elie Hubert,...  \n",
       "2  Le pape, qui fêtera ses 88 ans deux jours, a r...  \n",
       "3  Un jeune homme de 22 ans s'est rendu à la gend...  \n",
       "4  En 2011, Angélique Angarni-Filopon terminait p...  "
      ]
     },
     "metadata": {},
     "output_type": "display_data"
    }
   ],
   "source": [
    "rss_feeds = [\n",
    "    \"https://www.vsd.fr/rss\",\n",
    "    \"https://www.public.fr/rss\"\n",
    "]\n",
    "\n",
    "articles = []\n",
    "\n",
    "for feed_url in rss_feeds:\n",
    "    feed = feedparser.parse(feed_url)\n",
    "    for entry in feed.entries:\n",
    "        articles.append({\n",
    "            'title': entry.title,\n",
    "            'link': entry.link,\n",
    "            'published': entry.published,\n",
    "            'summary': entry.summary\n",
    "        })\n",
    "\n",
    "df_rss = pd.DataFrame(articles)\n",
    "\n",
    "print(f\"Number of articles: {len(df_rss)}\")\n",
    "display(df_rss.head())\n"
   ]
  },
  {
   "cell_type": "code",
   "execution_count": 35,
   "metadata": {},
   "outputs": [
    {
     "name": "stdout",
     "output_type": "stream",
     "text": [
      "Number of articles: 57070\n"
     ]
    },
    {
     "data": {
      "text/html": [
       "<div>\n",
       "<style scoped>\n",
       "    .dataframe tbody tr th:only-of-type {\n",
       "        vertical-align: middle;\n",
       "    }\n",
       "\n",
       "    .dataframe tbody tr th {\n",
       "        vertical-align: top;\n",
       "    }\n",
       "\n",
       "    .dataframe thead th {\n",
       "        text-align: right;\n",
       "    }\n",
       "</style>\n",
       "<table border=\"1\" class=\"dataframe\">\n",
       "  <thead>\n",
       "    <tr style=\"text-align: right;\">\n",
       "      <th></th>\n",
       "      <th>title</th>\n",
       "      <th>url</th>\n",
       "      <th>date</th>\n",
       "      <th>summary</th>\n",
       "    </tr>\n",
       "  </thead>\n",
       "  <tbody>\n",
       "    <tr>\n",
       "      <th>0</th>\n",
       "      <td>Un enfant de 2 ans tue sa mère avec l'arme de ...</td>\n",
       "      <td>https://vsd.fr/73487-un-enfant-de-2-ans-tue-sa...</td>\n",
       "      <td>2024-12-16T11:15:00+00:00</td>\n",
       "      <td>En manipulant l'arme, l’enfant a appuyé involo...</td>\n",
       "    </tr>\n",
       "    <tr>\n",
       "      <th>1</th>\n",
       "      <td>Les crevettes pailletées chantent à la Seine M...</td>\n",
       "      <td>https://vsd.fr/73466-les-crevettes-pailletees-...</td>\n",
       "      <td>2024-12-16T08:51:00+00:00</td>\n",
       "      <td>Imaginée par les artistes Fabrice-Elie Hubert,...</td>\n",
       "    </tr>\n",
       "    <tr>\n",
       "      <th>2</th>\n",
       "      <td>Visite historique du pape François en Corse</td>\n",
       "      <td>https://vsd.fr/73484-visite-historique-du-pape...</td>\n",
       "      <td>2024-12-16T06:27:00+00:00</td>\n",
       "      <td>Le pape, qui fêtera ses 88 ans deux jours, a r...</td>\n",
       "    </tr>\n",
       "    <tr>\n",
       "      <th>3</th>\n",
       "      <td>Tuerie dans le Nord : cinq personnes abattues,...</td>\n",
       "      <td>https://vsd.fr/73477-tuerie-dans-le-nord-cinq-...</td>\n",
       "      <td>2024-12-15T18:27:00+00:00</td>\n",
       "      <td>Un jeune homme de 22 ans s'est rendu à la gend...</td>\n",
       "    </tr>\n",
       "    <tr>\n",
       "      <th>4</th>\n",
       "      <td>Miss France 2025 : Pourquoi Angélique Angarni-...</td>\n",
       "      <td>https://vsd.fr/73471-miss-france-2025-pourquoi...</td>\n",
       "      <td>2024-12-15T16:54:56+00:00</td>\n",
       "      <td>En 2011, Angélique Angarni-Filopon terminait p...</td>\n",
       "    </tr>\n",
       "  </tbody>\n",
       "</table>\n",
       "</div>"
      ],
      "text/plain": [
       "                                               title  \\\n",
       "0  Un enfant de 2 ans tue sa mère avec l'arme de ...   \n",
       "1  Les crevettes pailletées chantent à la Seine M...   \n",
       "2        Visite historique du pape François en Corse   \n",
       "3  Tuerie dans le Nord : cinq personnes abattues,...   \n",
       "4  Miss France 2025 : Pourquoi Angélique Angarni-...   \n",
       "\n",
       "                                                 url  \\\n",
       "0  https://vsd.fr/73487-un-enfant-de-2-ans-tue-sa...   \n",
       "1  https://vsd.fr/73466-les-crevettes-pailletees-...   \n",
       "2  https://vsd.fr/73484-visite-historique-du-pape...   \n",
       "3  https://vsd.fr/73477-tuerie-dans-le-nord-cinq-...   \n",
       "4  https://vsd.fr/73471-miss-france-2025-pourquoi...   \n",
       "\n",
       "                        date  \\\n",
       "0  2024-12-16T11:15:00+00:00   \n",
       "1  2024-12-16T08:51:00+00:00   \n",
       "2  2024-12-16T06:27:00+00:00   \n",
       "3  2024-12-15T18:27:00+00:00   \n",
       "4  2024-12-15T16:54:56+00:00   \n",
       "\n",
       "                                             summary  \n",
       "0  En manipulant l'arme, l’enfant a appuyé involo...  \n",
       "1  Imaginée par les artistes Fabrice-Elie Hubert,...  \n",
       "2  Le pape, qui fêtera ses 88 ans deux jours, a r...  \n",
       "3  Un jeune homme de 22 ans s'est rendu à la gend...  \n",
       "4  En 2011, Angélique Angarni-Filopon terminait p...  "
      ]
     },
     "metadata": {},
     "output_type": "display_data"
    }
   ],
   "source": [
    "def convert_date(date_str: str) -> str:\n",
    "    date_obj = datetime.strptime(date_str, '%a, %d %b %Y %H:%M:%S %z')\n",
    "    return date_obj.strftime('%Y-%m-%dT%H:%M:%S%z')[:-4] + '00:00'\n",
    "\n",
    "df_rss = df_rss.rename(columns={\n",
    "    'link': 'url',\n",
    "    'published': 'date'\n",
    "})\n",
    "\n",
    "df_rss['date'] = df_rss['date'].apply(convert_date)\n",
    "df = pd.concat([df_rss, df], ignore_index=True)\n",
    "\n",
    "print(f\"Number of articles: {len(df)}\")\n",
    "display(df.head())"
   ]
  },
  {
   "cell_type": "markdown",
   "metadata": {},
   "source": [
    "### Data Cleaning"
   ]
  },
  {
   "cell_type": "code",
   "execution_count": 36,
   "metadata": {},
   "outputs": [
    {
     "name": "stdout",
     "output_type": "stream",
     "text": [
      "Number of articles: 42414\n"
     ]
    },
    {
     "data": {
      "text/html": [
       "<div>\n",
       "<style scoped>\n",
       "    .dataframe tbody tr th:only-of-type {\n",
       "        vertical-align: middle;\n",
       "    }\n",
       "\n",
       "    .dataframe tbody tr th {\n",
       "        vertical-align: top;\n",
       "    }\n",
       "\n",
       "    .dataframe thead th {\n",
       "        text-align: right;\n",
       "    }\n",
       "</style>\n",
       "<table border=\"1\" class=\"dataframe\">\n",
       "  <thead>\n",
       "    <tr style=\"text-align: right;\">\n",
       "      <th></th>\n",
       "      <th>title</th>\n",
       "      <th>url</th>\n",
       "      <th>date</th>\n",
       "      <th>summary</th>\n",
       "    </tr>\n",
       "  </thead>\n",
       "  <tbody>\n",
       "    <tr>\n",
       "      <th>0</th>\n",
       "      <td>Un enfant de 2 ans tue sa mère avec l'arme de ...</td>\n",
       "      <td>https://vsd.fr/73487-un-enfant-de-2-ans-tue-sa...</td>\n",
       "      <td>2024-12-16T11:15:00+00:00</td>\n",
       "      <td>En manipulant l'arme, l’enfant a appuyé involo...</td>\n",
       "    </tr>\n",
       "    <tr>\n",
       "      <th>1</th>\n",
       "      <td>Les crevettes pailletées chantent à la Seine M...</td>\n",
       "      <td>https://vsd.fr/73466-les-crevettes-pailletees-...</td>\n",
       "      <td>2024-12-16T08:51:00+00:00</td>\n",
       "      <td>Imaginée par les artistes Fabrice-Elie Hubert,...</td>\n",
       "    </tr>\n",
       "    <tr>\n",
       "      <th>2</th>\n",
       "      <td>Visite historique du pape François en Corse</td>\n",
       "      <td>https://vsd.fr/73484-visite-historique-du-pape...</td>\n",
       "      <td>2024-12-16T06:27:00+00:00</td>\n",
       "      <td>Le pape, qui fêtera ses 88 ans deux jours, a r...</td>\n",
       "    </tr>\n",
       "    <tr>\n",
       "      <th>3</th>\n",
       "      <td>Tuerie dans le Nord : cinq personnes abattues,...</td>\n",
       "      <td>https://vsd.fr/73477-tuerie-dans-le-nord-cinq-...</td>\n",
       "      <td>2024-12-15T18:27:00+00:00</td>\n",
       "      <td>Un jeune homme de 22 ans s'est rendu à la gend...</td>\n",
       "    </tr>\n",
       "    <tr>\n",
       "      <th>4</th>\n",
       "      <td>Miss France 2025 : Pourquoi Angélique Angarni-...</td>\n",
       "      <td>https://vsd.fr/73471-miss-france-2025-pourquoi...</td>\n",
       "      <td>2024-12-15T16:54:56+00:00</td>\n",
       "      <td>En 2011, Angélique Angarni-Filopon terminait p...</td>\n",
       "    </tr>\n",
       "  </tbody>\n",
       "</table>\n",
       "</div>"
      ],
      "text/plain": [
       "                                               title  \\\n",
       "0  Un enfant de 2 ans tue sa mère avec l'arme de ...   \n",
       "1  Les crevettes pailletées chantent à la Seine M...   \n",
       "2        Visite historique du pape François en Corse   \n",
       "3  Tuerie dans le Nord : cinq personnes abattues,...   \n",
       "4  Miss France 2025 : Pourquoi Angélique Angarni-...   \n",
       "\n",
       "                                                 url  \\\n",
       "0  https://vsd.fr/73487-un-enfant-de-2-ans-tue-sa...   \n",
       "1  https://vsd.fr/73466-les-crevettes-pailletees-...   \n",
       "2  https://vsd.fr/73484-visite-historique-du-pape...   \n",
       "3  https://vsd.fr/73477-tuerie-dans-le-nord-cinq-...   \n",
       "4  https://vsd.fr/73471-miss-france-2025-pourquoi...   \n",
       "\n",
       "                        date  \\\n",
       "0  2024-12-16T11:15:00+00:00   \n",
       "1  2024-12-16T08:51:00+00:00   \n",
       "2  2024-12-16T06:27:00+00:00   \n",
       "3  2024-12-15T18:27:00+00:00   \n",
       "4  2024-12-15T16:54:56+00:00   \n",
       "\n",
       "                                             summary  \n",
       "0  En manipulant l'arme, l’enfant a appuyé involo...  \n",
       "1  Imaginée par les artistes Fabrice-Elie Hubert,...  \n",
       "2  Le pape, qui fêtera ses 88 ans deux jours, a r...  \n",
       "3  Un jeune homme de 22 ans s'est rendu à la gend...  \n",
       "4  En 2011, Angélique Angarni-Filopon terminait p...  "
      ]
     },
     "metadata": {},
     "output_type": "display_data"
    }
   ],
   "source": [
    "df_cleaned = df.replace(\"N/A\", pd.NA).dropna()\n",
    "df_cleaned = df_cleaned.drop_duplicates(subset=['url'])\n",
    "\n",
    "print(f\"Number of articles: {len(df_cleaned)}\")\n",
    "display(df_cleaned.head())\n",
    "\n",
    "df_cleaned.to_csv('../data/articles.csv', index=False)"
   ]
  },
  {
   "cell_type": "markdown",
   "metadata": {},
   "source": [
    "## Sentence-transformer model"
   ]
  },
  {
   "cell_type": "code",
   "execution_count": 6,
   "metadata": {},
   "outputs": [
    {
     "name": "stderr",
     "output_type": "stream",
     "text": [
      "d:\\2.EPITA\\SCIA_Env\\lib\\site-packages\\tqdm\\auto.py:21: TqdmWarning: IProgress not found. Please update jupyter and ipywidgets. See https://ipywidgets.readthedocs.io/en/stable/user_install.html\n",
      "  from .autonotebook import tqdm as notebook_tqdm\n"
     ]
    },
    {
     "name": "stdout",
     "output_type": "stream",
     "text": [
      "WARNING:tensorflow:From d:\\2.EPITA\\SCIA_Env\\lib\\site-packages\\tf_keras\\src\\losses.py:2976: The name tf.losses.sparse_softmax_cross_entropy is deprecated. Please use tf.compat.v1.losses.sparse_softmax_cross_entropy instead.\n",
      "\n"
     ]
    }
   ],
   "source": [
    "from sentence_transformers import SentenceTransformer\n",
    "\n",
    "sentences = df_cleaned['title'].tolist()\n",
    "model = SentenceTransformer('sentence-transformers/all-MiniLM-L6-v2')\n",
    "embeddings = model.encode(sentences)\n",
    "\n",
    "np.save('../data/embeddings.npy', embeddings)"
   ]
  },
  {
   "cell_type": "code",
   "execution_count": 7,
   "metadata": {},
   "outputs": [
    {
     "name": "stdout",
     "output_type": "stream",
     "text": [
      "(17398, 384)\n"
     ]
    }
   ],
   "source": [
    "embeddings = np.load('../data/embeddings.npy')\n",
    "\n",
    "print(embeddings.shape)"
   ]
  },
  {
   "cell_type": "code",
   "execution_count": null,
   "metadata": {},
   "outputs": [],
   "source": [
    "def update_encoder(df, model, embeddings):\n",
    "    sentences = df['title'].tolist()\n",
    "    new_embeddings = model.encode(sentences)\n",
    "    return np.concatenate([embeddings, new_embeddings])\n",
    "\n",
    "    np.save('../data/embeddings.npy', embeddings)"
   ]
  },
  {
   "cell_type": "markdown",
   "metadata": {},
   "source": [
    "# Semantic Search"
   ]
  },
  {
   "cell_type": "markdown",
   "metadata": {},
   "source": [
    "### Similarity Test"
   ]
  },
  {
   "cell_type": "code",
   "execution_count": 8,
   "metadata": {},
   "outputs": [
    {
     "name": "stdout",
     "output_type": "stream",
     "text": [
      "similarity between two embeddings is : 0.4322\n"
     ]
    }
   ],
   "source": [
    "from sklearn.metrics.pairwise import cosine_similarity\n",
    "\n",
    "similarité = cosine_similarity([embeddings[0]], [embeddings[10]])\n",
    "print(f\"similarity between two embeddings is : {similarité[0][0]:.4f}\")"
   ]
  },
  {
   "cell_type": "markdown",
   "metadata": {},
   "source": [
    "## Get Most Similar Function"
   ]
  },
  {
   "cell_type": "code",
   "execution_count": 9,
   "metadata": {},
   "outputs": [],
   "source": [
    "from typing import List, Dict, Any\n",
    "\n",
    "def get_most_similar(sentence:str,\n",
    "                     embeddings: List[List[float]],\n",
    "                     model: SentenceTransformer,\n",
    "                     articles: pd.DataFrame,\n",
    "                     n:int=5) -> List[Dict[str, Any]]:\n",
    "    \"\"\"\n",
    "    Find the articles most similar to a given sentence using embeddings and cosine similarity.\n",
    "\n",
    "    Args:\n",
    "        sentence (str): The query sentence.\n",
    "        embeddings (List[List[float]]): List of embeddings representing the articles.\n",
    "        model (SentenceTransformer): The sentence transformer model.\n",
    "        articles (pd.DataFrame): DataFrame containing the articles with columns ('title', 'url', 'date', 'summary').\n",
    "        n (int, optional): Number of similar articles to return, defaults to 5.\n",
    "\n",
    "    Returns:\n",
    "        List[Dict[str, Any]]: List of dictionaries containing the most similar articles :\n",
    "            - 'title' (str)\n",
    "            - 'link' (str)\n",
    "            - 'date' (str), formatted as 'dd/mm/yy'.\n",
    "            - 'description\n",
    "    \"\"\"\n",
    "\n",
    "    query_embedding = model.encode(sentence).reshape(1, -1)\n",
    "    \n",
    "    similarities = cosine_similarity(np.array(embeddings), query_embedding).flatten()\n",
    "    \n",
    "    top_n_indices = similarities.argsort()[-n:][::-1]\n",
    "    \n",
    "    most_similar = []\n",
    "    for idx in top_n_indices:\n",
    "        article = articles.iloc[idx]\n",
    "        date = datetime.strptime(article['date'], '%Y-%m-%dT%H:%M:%S%z')\n",
    "        formatted_date = date.strftime('%d/%m/%y')\n",
    "        most_similar.append({\n",
    "            'title': article['title'],\n",
    "            'url': article['url'], \n",
    "            'date': formatted_date,\n",
    "            'description': article['summary']\n",
    "        })\n",
    "    \n",
    "    return most_similar"
   ]
  },
  {
   "cell_type": "code",
   "execution_count": 15,
   "metadata": {},
   "outputs": [
    {
     "name": "stdout",
     "output_type": "stream",
     "text": [
      "{'title': 'Sport. Liverpool-Tottenham : les 10 choses à savoir avant la finale - VSD', 'url': 'https://vsd.fr/25317-sport-liverpool-tottenham-les-10-choses-a-savoir-avant-la-finale/', 'date': '01/06/19', 'description': 'La finale de la Ligue des champions 2018-2019 opposera samedi 1er juin, à 21 h, au Wanda Metropolitano de Madrid (l’antre de l’Atlecito) Liverpool à Tottenham.Focus sur deux clubs mythiques de l’Angleterre.'}\n",
      "{'title': 'SPORT. Les Américaines au sommet - VSD', 'url': 'https://vsd.fr/23946-sport-les-americaines-au-sommet/', 'date': '25/06/19', 'description': 'Elle est «\\xa0THE\\xa0» star du foot féminin. Et probablement l’une des meilleures joueuses de la planète. Alex Morgan, co-capitaine de l’équipé américaine de soccer, défie les Bleues, vendredi soir, à Paris, en quart de finale de la coupe du monde.'}\n",
      "{'title': 'L’EURO de football - VSD', 'url': 'https://vsd.fr/1030-l-euro-de-football/', 'date': '14/06/21', 'description': 'Qui pour succéder au Portugal ? Du 11 juin au 11 juillet, 24\\xa0nations s’affrontent pour conquérir la couronne européenne.\\xa0Par Antoine Grenapin'}\n",
      "{'title': 'Football. Barrages L1/L2 : Auxerre exulte, Saint-Etienne explose - VSD', 'url': 'https://vsd.fr/589-football-barrages-l1-l2-auxerre-exulte-saint-etienne-explose/', 'date': '30/05/22', 'description': 'Hier soir, dimanche 29 mai, avait lieu le barrage retour entre l’AS Saint-Etienne et l’AJ Auxerre. Les Auxerrois se sont imposés aux tirs aux buts (5-4)'}\n",
      "{'title': 'Football. Barrages L1/L2 : Auxerre exulte, Saint-Etienne explose - VSD', 'url': 'https://vsd.fr/605-football-barrages-l1-l2-auxerre-exulte-saint-etienne-explose-2/', 'date': '30/05/22', 'description': 'Hier soir, dimanche 29 mai, avait lieu le barrage retour entre l’AS Saint-Etienne et l’AJ Auxerre. Les Auxerrois se sont imposés aux tirs aux buts (5-4)'}\n"
     ]
    }
   ],
   "source": [
    "sentence = \"football\"\n",
    "most_sim = get_most_similar(sentence, embeddings, model, df_cleaned)\n",
    "for sim in most_sim:\n",
    "    print(sim)"
   ]
  }
 ],
 "metadata": {
  "kernelspec": {
   "display_name": "SCIA_Env",
   "language": "python",
   "name": "python3"
  },
  "language_info": {
   "codemirror_mode": {
    "name": "ipython",
    "version": 3
   },
   "file_extension": ".py",
   "mimetype": "text/x-python",
   "name": "python",
   "nbconvert_exporter": "python",
   "pygments_lexer": "ipython3",
   "version": "3.10.11"
  }
 },
 "nbformat": 4,
 "nbformat_minor": 2
}
